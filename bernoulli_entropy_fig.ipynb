{
 "cells": [
  {
   "cell_type": "code",
   "execution_count": 1,
   "id": "39d828ec",
   "metadata": {},
   "outputs": [],
   "source": [
    "using Plots "
   ]
  },
  {
   "cell_type": "code",
   "execution_count": 4,
   "id": "c96532ee",
   "metadata": {
    "scrolled": true
   },
   "outputs": [
    {
     "ename": "LoadError",
     "evalue": "IOError: pwd(): operation not permitted (EPERM)",
     "output_type": "error",
     "traceback": [
      "IOError: pwd(): operation not permitted (EPERM)",
      "",
      "Stacktrace:",
      " [1] uv_error",
      "   @ ./libuv.jl:97 [inlined]",
      " [2] pwd()",
      "   @ Base.Filesystem ./file.jl:63",
      " [3] abspath(a::String)",
      "   @ Base.Filesystem ./path.jl:421",
      " [4] savefig(plt::Plots.Plot{Plots.GRBackend}, fn::String)",
      "   @ Plots ~/.julia/packages/Plots/QZRtR/src/output.jl:139",
      " [5] savefig(fn::String)",
      "   @ Plots ~/.julia/packages/Plots/QZRtR/src/output.jl:154",
      " [6] top-level scope",
      "   @ In[4]:18"
     ]
    }
   ],
   "source": [
    "x = LinRange(0, 1, 10_000)\n",
    "\n",
    "H(x::Float64) = -(x * log(2, x) + (1 - x) * log(2, 1 - x))\n",
    "\n",
    "plot(x, H.(x),\n",
    "    xlabel = \"p(X = 1)\",\n",
    "    ylabel = \"H(X)\",\n",
    "    xlims = (-0.01, 1.01),\n",
    "    ylims = (0, 1.01),\n",
    "    xticks = [0, 0.5, 1],\n",
    "    yticks = [0, 0.5, 1],\n",
    "    linewidth = 3,\n",
    "    linecolor = :blue,\n",
    "    legend = false,\n",
    "    grid = false,\n",
    "    )\n",
    "\n",
    "savefig(\"bernoulliEntropy.pdf\")\n",
    "plot!()"
   ]
  }
 ],
 "metadata": {
  "kernelspec": {
   "display_name": "Julia 1.8.5",
   "language": "julia",
   "name": "julia-1.8"
  },
  "language_info": {
   "file_extension": ".jl",
   "mimetype": "application/julia",
   "name": "julia",
   "version": "1.8.5"
  }
 },
 "nbformat": 4,
 "nbformat_minor": 5
}
